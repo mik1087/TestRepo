{
 "cells": [
  {
   "cell_type": "markdown",
   "id": "19a1a4dc-1b0d-40cf-98ae-69799b42091d",
   "metadata": {},
   "source": [
    "Data Science Tools and Ecosystem"
   ]
  },
  {
   "cell_type": "markdown",
   "id": "0bd8e49c-b52b-4907-b6e6-7c05b7dcc4a4",
   "metadata": {},
   "source": [
    "En este cuaderno, se resumen las herramientas y ecosistemas de ciencia de datos."
   ]
  },
  {
   "cell_type": "markdown",
   "id": "a87b73dd-0794-4fda-8579-f35b3ade73f3",
   "metadata": {},
   "source": [
    "Algunos de los lenguajes populares que utilizan los científicos de datos son:\n",
    "1. Python\n",
    "2. R\n",
    "3. SQL\n",
    "4. Julia"
   ]
  },
  {
   "cell_type": "markdown",
   "id": "1692e303-0c12-4678-9d5b-2de4475e6e6c",
   "metadata": {},
   "source": [
    "Algunas de las bibliotecas comúnmente utilizadas por los científicos de datos incluyen:\n",
    "1. Pandas\n",
    "2. NumPy\n",
    "3. Matplotlib\n",
    "4. Scikit-learn"
   ]
  },
  {
   "cell_type": "markdown",
   "id": "2b61419f-26f4-4fcc-9584-021637169120",
   "metadata": {},
   "source": [
    "| Herramientas de Ciencia de Datos |\n",
    "|----------------------------------|\n",
    "| Jupyter Notebooks                |\n",
    "| RStudio                          |\n",
    "| Apache Spark                     |"
   ]
  },
  {
   "cell_type": "markdown",
   "id": "2b1ea3b0-02e2-4060-9ce7-42d92f5b67e6",
   "metadata": {},
   "source": [
    "### A continuación, se presentan algunos ejemplos de evaluación de expresiones aritméticas en Python."
   ]
  },
  {
   "cell_type": "code",
   "execution_count": 1,
   "id": "f86f749f-e452-47ef-8106-dfd7d40eab8b",
   "metadata": {},
   "outputs": [
    {
     "data": {
      "text/plain": [
       "17"
      ]
     },
     "execution_count": 1,
     "metadata": {},
     "output_type": "execute_result"
    }
   ],
   "source": [
    "# Esta es una expresión aritmética simple para multiplicar y luego sumar enteros.\n",
    "(3 * 4) + 5"
   ]
  },
  {
   "cell_type": "code",
   "execution_count": 2,
   "id": "60c3db91-9efc-4598-bc9c-54fd26d89e6a",
   "metadata": {},
   "outputs": [
    {
     "data": {
      "text/plain": [
       "3.3333333333333335"
      ]
     },
     "execution_count": 2,
     "metadata": {},
     "output_type": "execute_result"
    }
   ],
   "source": [
    "# Esto convertirá 200 minutos a horas dividiendo por 60.\n",
    "200 / 60"
   ]
  },
  {
   "cell_type": "markdown",
   "id": "832908c7-03da-4573-8449-778f3136daf2",
   "metadata": {},
   "source": [
    "**Objetivos:**\n",
    "- Listar lenguajes populares para Ciencia de Datos.\n",
    "- Listar bibliotecas comunes utilizadas en Ciencia de Datos.\n",
    "- Mostrar ejemplos de expresiones aritméticas en Python.\n",
    "- Introducir herramientas de desarrollo utilizadas en Ciencia de Datos."
   ]
  },
  {
   "cell_type": "markdown",
   "id": "f9d38d38-9e90-4e98-a511-10572a71f833",
   "metadata": {},
   "source": [
    "## Autor\n",
    "Miguel Ángel Carrión"
   ]
  },
  {
   "cell_type": "code",
   "execution_count": null,
   "id": "3b60b018-5d6d-4106-ac5f-83314f5862a8",
   "metadata": {},
   "outputs": [],
   "source": []
  }
 ],
 "metadata": {
  "kernelspec": {
   "display_name": "Python 3 (ipykernel)",
   "language": "python",
   "name": "python3"
  },
  "language_info": {
   "codemirror_mode": {
    "name": "ipython",
    "version": 3
   },
   "file_extension": ".py",
   "mimetype": "text/x-python",
   "name": "python",
   "nbconvert_exporter": "python",
   "pygments_lexer": "ipython3",
   "version": "3.12.8"
  }
 },
 "nbformat": 4,
 "nbformat_minor": 5
}
